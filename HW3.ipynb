{
 "cells": [
  {
   "cell_type": "markdown",
   "metadata": {},
   "source": [
    "1a: For the first algorithm, there are 8 mistakes, for the second algorithm there are 12 mistakes, so the first algorithm makes fewest mistake."
   ]
  },
  {
   "cell_type": "markdown",
   "metadata": {},
   "source": [
    "1b.The second algorithm is btter for zoo because it would make the least amount of bird to escape when locking a person in for 30 extra seconds is not a big deal."
   ]
  },
  {
   "cell_type": "markdown",
   "metadata": {},
   "source": [
    "1C.Table 1:"
   ]
  },
  {
   "cell_type": "code",
   "execution_count": 8,
   "metadata": {},
   "outputs": [
    {
     "name": "stdout",
     "output_type": "stream",
     "text": [
      "0.928125 0.061875 0.0009615384615384616 0.009038461538461539\n"
     ]
    }
   ],
   "source": [
    "TBNB= 45/48*0.99\n",
    "TBNP=3/48*0.99\n",
    "TPNB=5/52*0.01\n",
    "TPNP=47/52*0.01\n",
    "print(TBNB,TBNP,TPNB,TPNP)"
   ]
  },
  {
   "cell_type": "markdown",
   "metadata": {},
   "source": [
    "|    | True bird | True person|\n",
    "|------|------|------|\n",
    "|   NN bird  | 92.8|0.1|\n",
    "|   NN person  | 6.2|0.9|\n"
   ]
  },
  {
   "cell_type": "markdown",
   "metadata": {},
   "source": [
    "Table 2:"
   ]
  },
  {
   "cell_type": "code",
   "execution_count": 9,
   "metadata": {},
   "outputs": [
    {
     "name": "stdout",
     "output_type": "stream",
     "text": [
      "0.969375 0.020624999999999998 0.0021153846153846153 0.008076923076923077\n"
     ]
    }
   ],
   "source": [
    "TBNB= 47/48*0.99\n",
    "TBNP=1/48*0.99\n",
    "TPNB=11/52*0.01\n",
    "TPNP=42/52*0.01\n",
    "print(TBNB,TBNP,TPNB,TPNP)"
   ]
  },
  {
   "cell_type": "markdown",
   "metadata": {},
   "source": [
    "|    | True bird | True person|\n",
    "|------|------|------|\n",
    "|   NN bird  | 96.9|0.2|\n",
    "|   NN person  | 2.1|0.8|\n"
   ]
  },
  {
   "cell_type": "markdown",
   "metadata": {},
   "source": [
    "I made this table using the accuarcy based on the table before times the population rate."
   ]
  },
  {
   "cell_type": "markdown",
   "metadata": {},
   "source": [
    "2a.What is the pdf of the sum of two identical exponential distributions?\n"
   ]
  },
  {
   "cell_type": "markdown",
   "metadata": {},
   "source": [
    "Erlang distribution(https://en.wikipedia.org/wiki/Erlang_distribution)"
   ]
  },
  {
   "cell_type": "markdown",
   "metadata": {},
   "source": [
    "2b. What is the pdf of the ratio of two zero-mean unity variance normal distributions  X1/X2 ?"
   ]
  },
  {
   "cell_type": "markdown",
   "metadata": {},
   "source": [
    "Cauchy/Lorentz distribution, If X1 and X2 are independent standard normal random variables, then Y = X1/X2\n",
    "has the standard Cauchy distribution(http://www.math.wm.edu/~leemis/chart/UDR/PDFs/StandardnormalStandardcauchy.pdf)"
   ]
  },
  {
   "cell_type": "markdown",
   "metadata": {},
   "source": [
    "2c) So far we have looked at 1D probability distributions, but it is possible to have a multi-dimensional vector distribution. A simple first introduction is the 2D Guassian; it looks like a smeared spot. Mathematically this is given by  Xi^+Yj^  where both  X  and  Y  are drawn from 1D Gaussian distributions. If I measure the amplitude of this vector, what is its pdf? (Hint, the amplitude is always positive.)"
   ]
  },
  {
   "cell_type": "markdown",
   "metadata": {},
   "source": [
    "When we have a 2D Guassion, we can check for https://en.wikipedia.org/wiki/Gaussian_function#Two-dimensional_Gaussian_function, as we can see it take us to https://en.wikipedia.org/wiki/Multivariate_normal_distribution and showed pdf of the vector would be bivariate normal distribution"
   ]
  },
  {
   "cell_type": "code",
   "execution_count": null,
   "metadata": {},
   "outputs": [],
   "source": []
  }
 ],
 "metadata": {
  "kernelspec": {
   "display_name": "Python 3",
   "language": "python",
   "name": "python3"
  },
  "language_info": {
   "codemirror_mode": {
    "name": "ipython",
    "version": 3
   },
   "file_extension": ".py",
   "mimetype": "text/x-python",
   "name": "python",
   "nbconvert_exporter": "python",
   "pygments_lexer": "ipython3",
   "version": "3.7.6"
  }
 },
 "nbformat": 4,
 "nbformat_minor": 4
}
